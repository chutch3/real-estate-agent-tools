{
 "cells": [
  {
   "cell_type": "code",
   "execution_count": 1,
   "metadata": {},
   "outputs": [],
   "source": [
    "from dotenv import load_dotenv\n",
    "assert load_dotenv()\n",
    "\n",
    "from backend.container import Container\n",
    "container = Container()\n",
    "container.config.rentcast.api_key.from_env(\"RENTCAST_API_KEY\")"
   ]
  },
  {
   "cell_type": "code",
   "execution_count": 2,
   "metadata": {},
   "outputs": [],
   "source": [
    "service = container.property_service()\n",
    "property = await service.get_property(\"5329 Corydon Ramsey Road NW, Corydon IN, 47112\")"
   ]
  },
  {
   "cell_type": "code",
   "execution_count": 7,
   "metadata": {},
   "outputs": [
    {
     "name": "stdout",
     "output_type": "stream",
     "text": [
      "id 5329-Corydon-Ramsey-Rd-NW,-Corydon,-IN-47112\n",
      "city Corydon\n",
      "state IN\n",
      "county Harrison\n",
      "latitude 38.27922\n",
      "longitude -86.146056\n",
      "bedrooms 3\n",
      "bathrooms 2.5\n",
      "square_footage 0\n",
      "lot_size 0\n",
      "year_built 0\n",
      "last_sale_price 0\n",
      "features {'architecture_type': None, 'cooling': True, 'cooling_type': None, 'exterior_type': None, 'floor_count': 0, 'foundation_type': None, 'garage': True, 'garage_type': None, 'heating': True, 'heating_type': None, 'pool': True, 'roof_type': None, 'room_count': 0, 'unit_count': 0}\n",
      "owner_occupied True\n"
     ]
    }
   ],
   "source": [
    "for k, v in property.model_dump().items():\n",
    "    if v is not None:\n",
    "        print(k, v)"
   ]
  },
  {
   "cell_type": "code",
   "execution_count": null,
   "metadata": {},
   "outputs": [],
   "source": []
  }
 ],
 "metadata": {
  "kernelspec": {
   "display_name": "test_app",
   "language": "python",
   "name": "python3"
  },
  "language_info": {
   "codemirror_mode": {
    "name": "ipython",
    "version": 3
   },
   "file_extension": ".py",
   "mimetype": "text/x-python",
   "name": "python",
   "nbconvert_exporter": "python",
   "pygments_lexer": "ipython3",
   "version": "3.11.9"
  }
 },
 "nbformat": 4,
 "nbformat_minor": 2
}
